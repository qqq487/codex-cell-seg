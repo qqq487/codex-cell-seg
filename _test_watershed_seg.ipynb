{
 "cells": [
  {
   "cell_type": "code",
   "execution_count": 8,
   "id": "d94f5940-6c73-47ec-988f-49c14729fb83",
   "metadata": {},
   "outputs": [],
   "source": [
    "import cv2"
   ]
  },
  {
   "cell_type": "code",
   "execution_count": 9,
   "id": "45b8a1e0-7a1a-4b94-b5ed-aeaa17873dab",
   "metadata": {},
   "outputs": [],
   "source": [
    "import numpy as np"
   ]
  },
  {
   "cell_type": "code",
   "execution_count": 10,
   "id": "986c97e7-3d78-4641-8530-f21707d45357",
   "metadata": {},
   "outputs": [
    {
     "data": {
      "text/plain": [
       "array([[0., 0., 0., ..., 0., 0., 0.],\n",
       "       [0., 0., 0., ..., 0., 0., 0.],\n",
       "       [0., 0., 0., ..., 0., 0., 0.],\n",
       "       ...,\n",
       "       [0., 0., 0., ..., 0., 0., 0.],\n",
       "       [0., 0., 0., ..., 0., 0., 0.],\n",
       "       [0., 0., 0., ..., 0., 0., 0.]])"
      ]
     },
     "execution_count": 10,
     "metadata": {},
     "output_type": "execute_result"
    }
   ],
   "source": [
    "QQ = np.zeros((756,672))\n",
    "cv2.circle(QQ, (20,20), 7, (200), -1)\n",
    "cv2.circle(QQ, (200,200), 15, (100), -1)"
   ]
  },
  {
   "cell_type": "code",
   "execution_count": 11,
   "id": "ef47397f-d314-4448-99ee-c6cd892a836e",
   "metadata": {},
   "outputs": [
    {
     "data": {
      "text/plain": [
       "True"
      ]
     },
     "execution_count": 11,
     "metadata": {},
     "output_type": "execute_result"
    }
   ],
   "source": [
    "cv2.imwrite(\"black.png\",QQ)"
   ]
  },
  {
   "cell_type": "code",
   "execution_count": 425,
   "id": "516e9b0f-6a26-4502-b015-a0ab9119ac86",
   "metadata": {},
   "outputs": [
    {
     "data": {
      "text/plain": [
       "True"
      ]
     },
     "execution_count": 425,
     "metadata": {},
     "output_type": "execute_result"
    }
   ],
   "source": [
    "import numpy as np\n",
    "import cv2 as cv\n",
    "from matplotlib import pyplot as plt\n",
    "img = cv2.imread(\"QQ_big.png\")\n",
    "dst = cv.fastNlMeansDenoisingColored(img,None,30,10,7,21)\n",
    "\n",
    "cv2.imwrite(\"QQ_big2.png\",dst)\n",
    "# plt.subplot(121),plt.imshow(img)\n",
    "# plt.subplot(122),plt.imshow(dst)\n",
    "# plt.show()"
   ]
  },
  {
   "cell_type": "code",
   "execution_count": null,
   "id": "8a8b38ae-45e0-42e2-9cd4-b651184fdd61",
   "metadata": {},
   "outputs": [],
   "source": []
  },
  {
   "cell_type": "code",
   "execution_count": 1,
   "id": "3744b3e4-54b4-4693-ba9d-52ffdd8deb1d",
   "metadata": {},
   "outputs": [],
   "source": [
    "import cv2\n",
    "import numpy as np\n",
    "from PIL import Image, ImageOps\n",
    "import imutils"
   ]
  },
  {
   "cell_type": "code",
   "execution_count": 444,
   "id": "e8314695-56fe-486a-8273-79ddcbd71297",
   "metadata": {},
   "outputs": [],
   "source": [
    "def nuclei_proposal(nuclei_image):\n",
    "        \n",
    "        image_shape = (nuclei_image.shape[0],nuclei_image.shape[1])\n",
    "        print(image_shape)\n",
    "        # np_img = nuclei_image.numpy().transpose(1,2,0)\n",
    "        np_img = nuclei_image\n",
    "\n",
    "        gray = cv2.cvtColor(np_img, cv2.COLOR_BGR2GRAY)\n",
    "\n",
    "        _open_kernel = cv2.getStructuringElement(cv2.MORPH_ELLIPSE, (10,10))\n",
    "\n",
    "        _open = cv2.morphologyEx(gray, cv2.MORPH_OPEN, _open_kernel,iterations=1)\n",
    "                \n",
    "        _open = np.clip(_open, 0, 255)\n",
    "        _open = np.array(_open,np.uint8)\n",
    "\n",
    "        ret,thresh = cv2.threshold(_open,0,255,cv2.THRESH_BINARY+cv2.THRESH_OTSU)\n",
    "\n",
    "        kernel = np.ones((5,5),np.uint8)\n",
    "\n",
    "        erosion = cv2.erode(_open, kernel,iterations = 1)\n",
    "\n",
    "        contours, hierarchy = cv2.findContours(thresh,cv2.RETR_TREE,cv2.CHAIN_APPROX_NONE)\n",
    "        #contours_thresh_opening = cv2.drawContours(np_img, contours, -1, (0.0,0.0,255.0), 3)\n",
    "        \n",
    "        mask = np.zeros((nuclei_image.shape[0],nuclei_image.shape[1]), np.uint8)\n",
    "        \n",
    "        cnts = imutils.grab_contours((contours, hierarchy))\n",
    "        \n",
    "        xyxy_nuclei_bboxs = []\n",
    "        \n",
    "        center_list = []\n",
    "\n",
    "        for idx, c in enumerate(cnts):\n",
    "            \n",
    "            try:\n",
    "#                 # expand_c = self.scale_contour(c,1.5)\n",
    "#                 expand_c = c\n",
    "#                 xywh_nuclei_bbox = cv2.boundingRect(expand_c)\n",
    "#                 xyxy_nuclei_bbox = [xywh_nuclei_bbox[0],xywh_nuclei_bbox[1],xywh_nuclei_bbox[0]+xywh_nuclei_bbox[2],xywh_nuclei_bbox[1]+xywh_nuclei_bbox[3]]\n",
    "# #                 cv2.rectangle(np_img, (xyxy_nuclei_bbox[0],xyxy_nuclei_bbox[1]), (xyxy_nuclei_bbox[2],xyxy_nuclei_bbox[3] ), (0, 255, 0), 2)\n",
    "#                 xyxy_nuclei_bboxs.append(xyxy_nuclei_bbox)\n",
    "\n",
    "                M = cv2.moments(c)\n",
    "                center_x = int(M[\"m10\"]/M[\"m00\"])\n",
    "                center_y = int(M[\"m01\"]/M[\"m00\"])\n",
    "                #cv2.circle(mask, (center_x,center_y), 0, (idx%255), -1)\n",
    "                \n",
    "                center_list.append([center_x, center_y])\n",
    "                \n",
    "            except ZeroDivisionError:\n",
    "                pass\n",
    "        #cv2.imwrite(\"123.png\",mask)\n",
    "\n",
    "#         boxes_num = len(xyxy_nuclei_bboxs)\n",
    "        \n",
    "        return center_list"
   ]
  },
  {
   "cell_type": "code",
   "execution_count": 445,
   "id": "c7a95627-f7e9-4d28-b1e8-8064d8421380",
   "metadata": {},
   "outputs": [],
   "source": [
    "filename= \"1228_reg002_cyc001_ch001_DAPI-01_0.png\"\n",
    "#filename= \"test_imgs/1228_reg002_cyc017_ch004_NAKATP_0.png\"\n",
    "\n",
    "image = Image.open(filename)"
   ]
  },
  {
   "cell_type": "code",
   "execution_count": 446,
   "id": "7b87ed7d-33f6-4d1b-837d-672f4c93c89a",
   "metadata": {},
   "outputs": [],
   "source": [
    "XD = np.asarray(image)"
   ]
  },
  {
   "cell_type": "code",
   "execution_count": 447,
   "id": "1d0ac079-e2f1-4590-8a87-969eaf73f87f",
   "metadata": {
    "tags": []
   },
   "outputs": [
    {
     "name": "stdout",
     "output_type": "stream",
     "text": [
      "(756, 672)\n"
     ]
    }
   ],
   "source": [
    "center_list = nuclei_proposal(XD)"
   ]
  },
  {
   "cell_type": "code",
   "execution_count": 448,
   "id": "a67a1c78-0591-4199-9279-552d748f801b",
   "metadata": {},
   "outputs": [
    {
     "data": {
      "text/plain": [
       "214"
      ]
     },
     "execution_count": 448,
     "metadata": {},
     "output_type": "execute_result"
    }
   ],
   "source": [
    "len(center_list)"
   ]
  },
  {
   "cell_type": "code",
   "execution_count": null,
   "id": "3470a331-a122-41d0-9f2d-0278836df6a7",
   "metadata": {},
   "outputs": [],
   "source": []
  },
  {
   "cell_type": "code",
   "execution_count": null,
   "id": "898ed050-ed29-46c5-9308-4c4cb7caf6f9",
   "metadata": {},
   "outputs": [],
   "source": []
  },
  {
   "cell_type": "code",
   "execution_count": 32,
   "id": "93067df6-fcdc-4385-bbdd-86e09d35034f",
   "metadata": {},
   "outputs": [],
   "source": [
    "seg_img = cv2.imread(\"23.png\",0) / 127 *255"
   ]
  },
  {
   "cell_type": "code",
   "execution_count": 33,
   "id": "ada36f06-52c1-4c3f-9ea3-6f997f44df4d",
   "metadata": {},
   "outputs": [
    {
     "data": {
      "text/plain": [
       "True"
      ]
     },
     "execution_count": 33,
     "metadata": {},
     "output_type": "execute_result"
    }
   ],
   "source": [
    "cv2.imwrite(\"123.png\",seg_img)"
   ]
  },
  {
   "cell_type": "code",
   "execution_count": 25,
   "id": "87d50513-69f5-44f9-b71c-de1c1e003c93",
   "metadata": {},
   "outputs": [],
   "source": [
    "center_list = np.load(\"../test_output/cropped_centroids/CellSeg_Experiment_191029_122058_reg001empty_visual_growth50_23.npy\")"
   ]
  },
  {
   "cell_type": "code",
   "execution_count": 34,
   "id": "f7963e23-788e-47fe-82fd-112f2ae6f568",
   "metadata": {},
   "outputs": [],
   "source": [
    "center_list = np.load(\"../test_output/23stardist_result.npy\")"
   ]
  },
  {
   "cell_type": "code",
   "execution_count": 38,
   "id": "2c0c1f89-f7c7-4e3c-a51b-df96ec0edd06",
   "metadata": {
    "collapsed": true,
    "jupyter": {
     "outputs_hidden": true
    },
    "tags": []
   },
   "outputs": [
    {
     "data": {
      "text/plain": [
       "array([[280, 308],\n",
       "       [327, 727],\n",
       "       [628, 542],\n",
       "       [232,  45],\n",
       "       [ 89, 745],\n",
       "       [431, 321],\n",
       "       [528, 685],\n",
       "       [363, 700],\n",
       "       [482, 551],\n",
       "       [580, 488],\n",
       "       [140, 116],\n",
       "       [223, 375],\n",
       "       [146, 198],\n",
       "       [469, 450],\n",
       "       [586, 329],\n",
       "       [441, 170],\n",
       "       [ 97, 302],\n",
       "       [503,  54],\n",
       "       [453, 598],\n",
       "       [321, 570],\n",
       "       [648, 609],\n",
       "       [146, 529],\n",
       "       [523, 512],\n",
       "       [624, 509],\n",
       "       [205, 525],\n",
       "       [ 88, 726],\n",
       "       [140, 655],\n",
       "       [ 40, 462],\n",
       "       [265, 734],\n",
       "       [137, 464],\n",
       "       [201,  54],\n",
       "       [295, 635],\n",
       "       [640, 397],\n",
       "       [356, 645],\n",
       "       [104, 601],\n",
       "       [494, 424],\n",
       "       [219, 271],\n",
       "       [147, 694],\n",
       "       [181, 598],\n",
       "       [634, 731],\n",
       "       [244, 423],\n",
       "       [443, 560],\n",
       "       [589, 427],\n",
       "       [375, 175],\n",
       "       [235, 677],\n",
       "       [157, 391],\n",
       "       [387, 580],\n",
       "       [195, 339],\n",
       "       [520, 173],\n",
       "       [584, 514],\n",
       "       [565, 147],\n",
       "       [544, 673],\n",
       "       [591, 393],\n",
       "       [474, 122],\n",
       "       [ 37, 153],\n",
       "       [317, 187],\n",
       "       [255,  30],\n",
       "       [475, 639],\n",
       "       [545, 127],\n",
       "       [388, 196],\n",
       "       [433, 477],\n",
       "       [160, 739],\n",
       "       [272, 412],\n",
       "       [532, 354],\n",
       "       [147, 266],\n",
       "       [ 98, 336],\n",
       "       [ 91, 252],\n",
       "       [253, 635],\n",
       "       [524, 322],\n",
       "       [ 52, 473],\n",
       "       [328, 212],\n",
       "       [283, 137],\n",
       "       [610, 284],\n",
       "       [592, 718],\n",
       "       [518, 656],\n",
       "       [188, 248],\n",
       "       [654, 441],\n",
       "       [550, 547],\n",
       "       [226, 201],\n",
       "       [626, 486],\n",
       "       [605, 152],\n",
       "       [324, 457],\n",
       "       [596, 592],\n",
       "       [615, 375],\n",
       "       [411, 278],\n",
       "       [138, 151],\n",
       "       [318, 554],\n",
       "       [501, 373],\n",
       "       [389, 629],\n",
       "       [515, 581],\n",
       "       [199, 450],\n",
       "       [452, 370],\n",
       "       [627, 414],\n",
       "       [312, 388],\n",
       "       [185, 567],\n",
       "       [374, 442],\n",
       "       [458, 435],\n",
       "       [173, 152],\n",
       "       [463, 220],\n",
       "       [620, 245],\n",
       "       [401,  31],\n",
       "       [166, 126],\n",
       "       [226, 735],\n",
       "       [555, 407],\n",
       "       [476,  60],\n",
       "       [454, 256],\n",
       "       [402, 361],\n",
       "       [549, 361],\n",
       "       [159, 550],\n",
       "       [511, 716],\n",
       "       [543, 103],\n",
       "       [ 27, 320],\n",
       "       [507, 340],\n",
       "       [173, 488],\n",
       "       [ 71, 672],\n",
       "       [ 37, 389],\n",
       "       [563, 287],\n",
       "       [ 51, 108],\n",
       "       [365, 235],\n",
       "       [396, 546],\n",
       "       [ 17, 576],\n",
       "       [559,  89],\n",
       "       [649, 173],\n",
       "       [605, 409],\n",
       "       [534, 140],\n",
       "       [606, 637],\n",
       "       [496, 680],\n",
       "       [567, 468],\n",
       "       [571, 322],\n",
       "       [542,  88],\n",
       "       [ 33, 595],\n",
       "       [619,  67],\n",
       "       [445,  54],\n",
       "       [248, 493],\n",
       "       [245, 334],\n",
       "       [652, 266],\n",
       "       [ 84, 104],\n",
       "       [240, 145],\n",
       "       [595,  24],\n",
       "       [581, 307],\n",
       "       [516, 244],\n",
       "       [310,  82],\n",
       "       [ 10, 425],\n",
       "       [516, 115],\n",
       "       [199,  22],\n",
       "       [146,  33],\n",
       "       [634, 296],\n",
       "       [570, 359],\n",
       "       [538, 606],\n",
       "       [324, 104],\n",
       "       [ 51,  81],\n",
       "       [582, 608],\n",
       "       [544, 303],\n",
       "       [363, 498],\n",
       "       [647, 246],\n",
       "       [160, 484],\n",
       "       [639, 516],\n",
       "       [411, 533],\n",
       "       [449, 401],\n",
       "       [307, 169],\n",
       "       [ 78, 581],\n",
       "       [166, 702],\n",
       "       [477,  98],\n",
       "       [604, 344],\n",
       "       [491, 190],\n",
       "       [249, 303],\n",
       "       [427, 112],\n",
       "       [ 59, 645],\n",
       "       [217,   6],\n",
       "       [ 59, 127],\n",
       "       [192, 289],\n",
       "       [163,  29],\n",
       "       [573, 124],\n",
       "       [582, 414],\n",
       "       [297, 458],\n",
       "       [639, 378],\n",
       "       [538, 151],\n",
       "       [259, 624],\n",
       "       [446, 342],\n",
       "       [ 25, 726],\n",
       "       [451,  92],\n",
       "       [626, 454],\n",
       "       [370, 126],\n",
       "       [474, 598],\n",
       "       [ 56, 150],\n",
       "       [574, 161],\n",
       "       [296, 555],\n",
       "       [135, 191],\n",
       "       [ 38, 268],\n",
       "       [573, 263],\n",
       "       [212,  91],\n",
       "       [581,  47],\n",
       "       [ 81, 159],\n",
       "       [181, 303],\n",
       "       [255, 226],\n",
       "       [ 10, 651],\n",
       "       [425, 259],\n",
       "       [337, 306],\n",
       "       [ 58, 343],\n",
       "       [114,  91],\n",
       "       [622, 570],\n",
       "       [482, 325],\n",
       "       [145,  91],\n",
       "       [529,  36],\n",
       "       [118, 250],\n",
       "       [359, 304],\n",
       "       [219, 112],\n",
       "       [627,  94],\n",
       "       [476, 161],\n",
       "       [ 79, 689],\n",
       "       [485, 248],\n",
       "       [456, 182],\n",
       "       [ 94, 236],\n",
       "       [483, 487],\n",
       "       [623, 319],\n",
       "       [109, 218],\n",
       "       [301, 310],\n",
       "       [179, 428],\n",
       "       [501, 322],\n",
       "       [104, 373],\n",
       "       [143, 340],\n",
       "       [ 73, 253],\n",
       "       [599, 441],\n",
       "       [140, 426],\n",
       "       [526, 366],\n",
       "       [654, 146],\n",
       "       [467, 352],\n",
       "       [363, 288],\n",
       "       [291, 590],\n",
       "       [323, 326],\n",
       "       [594, 496],\n",
       "       [116, 397],\n",
       "       [168,  60],\n",
       "       [592, 363],\n",
       "       [600, 169],\n",
       "       [489, 214],\n",
       "       [ 23, 484],\n",
       "       [536, 265],\n",
       "       [554, 328],\n",
       "       [581, 214],\n",
       "       [611, 230],\n",
       "       [171, 138],\n",
       "       [420, 440],\n",
       "       [459, 379],\n",
       "       [517,  85],\n",
       "       [641,  38],\n",
       "       [571, 465],\n",
       "       [180, 617],\n",
       "       [639,  57],\n",
       "       [602, 430],\n",
       "       [533, 290],\n",
       "       [ 83,  57],\n",
       "       [533, 338],\n",
       "       [113,  76],\n",
       "       [534, 192],\n",
       "       [600, 321],\n",
       "       [617, 340],\n",
       "       [527,  96],\n",
       "       [ 46, 220],\n",
       "       [638, 113],\n",
       "       [ 60, 583],\n",
       "       [265, 357],\n",
       "       [650, 315],\n",
       "       [122, 182],\n",
       "       [651, 486],\n",
       "       [348,  13],\n",
       "       [635, 196],\n",
       "       [ 40,  59]], dtype=int32)"
      ]
     },
     "execution_count": 38,
     "metadata": {},
     "output_type": "execute_result"
    }
   ],
   "source": [
    "center_list"
   ]
  },
  {
   "cell_type": "code",
   "execution_count": 39,
   "id": "e65a7df8-4f97-4a59-814f-de4d7958db5e",
   "metadata": {},
   "outputs": [],
   "source": [
    "imgg = cv2.imread(\"./test_imgs_single_nuclei/0701_reg001_cyc002_ch001_DAPI-02_23.png\")"
   ]
  },
  {
   "cell_type": "code",
   "execution_count": 40,
   "id": "b15df5d2-99fb-45ab-a120-d437f34060fe",
   "metadata": {},
   "outputs": [],
   "source": [
    "for x,y in center_list:\n",
    "    #print(x,y)\n",
    "    imgg= cv2.circle(imgg, (int(x),int(y)), radius=3, color=(0, 0, 255), thickness=-1)\n"
   ]
  },
  {
   "cell_type": "code",
   "execution_count": 41,
   "id": "ea73ad88-b650-4748-ba75-c74215ea4b70",
   "metadata": {},
   "outputs": [
    {
     "data": {
      "text/plain": [
       "True"
      ]
     },
     "execution_count": 41,
     "metadata": {},
     "output_type": "execute_result"
    }
   ],
   "source": [
    "cv2.imwrite(\"WHATTT.png\",imgg)"
   ]
  },
  {
   "cell_type": "code",
   "execution_count": 42,
   "id": "50504cad-4671-4bc9-890d-26739d346ab4",
   "metadata": {},
   "outputs": [
    {
     "data": {
      "text/plain": [
       "True"
      ]
     },
     "execution_count": 42,
     "metadata": {},
     "output_type": "execute_result"
    }
   ],
   "source": [
    "count = 0 \n",
    "\n",
    "mask = np.zeros((seg_img.shape[0],seg_img.shape[1]), np.uint8)\n",
    "\n",
    "for idx, (x,y) in enumerate(center_list):\n",
    "    x = int(x)\n",
    "    y = int(y)\n",
    "    if seg_img[y][x] != 0:\n",
    "\n",
    "        cv2.circle(mask, (x,y), 0, (255), -1)\n",
    "        \n",
    "cv2.imwrite(\"1234.png\",mask)\n"
   ]
  },
  {
   "cell_type": "code",
   "execution_count": 23,
   "id": "03b818c3-68bb-46c6-b4d5-38281e77795d",
   "metadata": {},
   "outputs": [],
   "source": [
    "marker_img = cv2.imread(\"123.png\",0)"
   ]
  },
  {
   "cell_type": "code",
   "execution_count": null,
   "id": "bbd6ec5c-f6bf-4129-93a2-20f7ccd8ce03",
   "metadata": {},
   "outputs": [],
   "source": []
  },
  {
   "cell_type": "code",
   "execution_count": 47,
   "id": "48f05198-0ed2-4df8-8c47-649bd4678789",
   "metadata": {},
   "outputs": [
    {
     "name": "stdout",
     "output_type": "stream",
     "text": [
      "uint8\n",
      "int32\n"
     ]
    },
    {
     "data": {
      "text/plain": [
       "True"
      ]
     },
     "execution_count": 47,
     "metadata": {},
     "output_type": "execute_result"
    }
   ],
   "source": [
    "import sys\n",
    "import cv2\n",
    "import numpy\n",
    "from scipy.ndimage import label\n",
    "\n",
    "def segment_on_dt(a, img, seed):\n",
    "    border = cv2.dilate(img, None, iterations=1)\n",
    "    border = border - cv2.erode(border, None)\n",
    "    # dt = cv2.distanceTransform(img, 2, 3)\n",
    "    # dt = ((dt - dt.min()) / (dt.max() - dt.min()) * 255).astype(numpy.uint8)\n",
    "    # _, dt = cv2.threshold(dt, 180, 255, cv2.THRESH_BINARY)\n",
    "    \n",
    "    dt = seed\n",
    "    \n",
    "    lbl, ncc = label(dt)\n",
    "    lbl = lbl * (255 / (ncc + 1))\n",
    "    # Completing the markers now. \n",
    "    lbl[border == 255] = 255\n",
    "\n",
    "    lbl = lbl.astype(numpy.int32)\n",
    "    \n",
    "    cv2.imwrite(\"WTF.png\", lbl)\n",
    "    \n",
    "    print(a.dtype)\n",
    "    print(lbl.dtype)\n",
    "    \n",
    "    cv2.watershed(a, lbl)\n",
    "\n",
    "    lbl[lbl == -1] = 0\n",
    "    lbl = lbl.astype(numpy.uint8)\n",
    "    return 255 - lbl\n",
    "\n",
    "\n",
    "\n",
    "\n",
    "# # Pre-processing.\n",
    "# img_gray = cv2.cvtColor(img, cv2.COLOR_BGR2GRAY)    \n",
    "# _, img_bin = cv2.threshold(img_gray, 0, 255,\n",
    "#         cv2.THRESH_OTSU)\n",
    "# img_bin = cv2.morphologyEx(img_bin, cv2.MORPH_OPEN,\n",
    "#         numpy.ones((3, 3), dtype=int))\n",
    "\n",
    "img_bin = cv2.imread(\"1234.png\",0) / 127 * 255\n",
    "img_bin = img_bin.astype(np.uint8)\n",
    "\n",
    "img = cv2.imread(\"23.png\",1) / 127 * 255\n",
    "img = img.astype(np.uint8)\n",
    "\n",
    "seed = cv2.imread(\"1234.png\",0)\n",
    "\n",
    "result = segment_on_dt(img, img_bin, seed)\n",
    "cv2.imwrite(\"res.png\", result)\n",
    "\n",
    "result[result != 255] = 0\n",
    "result = cv2.dilate(result, None)\n",
    "img[result == 255] = (0, 0, 255)\n",
    "cv2.imwrite(\"res3.png\", img)"
   ]
  },
  {
   "cell_type": "code",
   "execution_count": 398,
   "id": "8e6156d9-d4b1-4775-bb2f-e0745dd00821",
   "metadata": {},
   "outputs": [],
   "source": [
    "import numpy as np\n",
    "import cv2 as cv\n",
    "from matplotlib import pyplot as plt\n",
    "img = cv2.imread(\"0701_reg001_cyc007_ch004_CD45_14_OUT.png\",1) / 127 * 255\n",
    "img = img.astype(np.uint8)\n",
    "gray = cv.cvtColor(img,cv.COLOR_BGR2GRAY)\n",
    "ret, thresh = cv.threshold(gray,0,255,cv.THRESH_BINARY_INV+cv.THRESH_OTSU)"
   ]
  },
  {
   "cell_type": "code",
   "execution_count": 399,
   "id": "800f0dc4-4648-468b-b377-f2bff678f3db",
   "metadata": {},
   "outputs": [],
   "source": [
    "# noise removal\n",
    "kernel = np.ones((3,3),np.uint8)\n",
    "opening = cv.morphologyEx(thresh,cv.MORPH_OPEN,kernel, iterations = 1)\n",
    "# sure background area\n",
    "sure_bg = cv.dilate(opening,kernel,iterations=1)\n",
    "# Finding sure foreground area\n",
    "dist_transform = cv.distanceTransform(opening,cv.DIST_L2,5)\n",
    "ret, sure_fg = cv.threshold(dist_transform,0.7*dist_transform.max(),255,0)\n",
    "# Finding unknown region\n",
    "sure_fg = np.uint8(sure_fg)\n",
    "unknown = cv.subtract(sure_bg,sure_fg)"
   ]
  },
  {
   "cell_type": "code",
   "execution_count": 400,
   "id": "2e6f1286-0070-4252-9cee-ef4001ded881",
   "metadata": {},
   "outputs": [],
   "source": [
    "# Marker labelling\n",
    "ret, markers = cv.connectedComponents(sure_fg)\n",
    "# Add one to all labels so that sure background is not 0, but 1\n",
    "markers = markers+1\n",
    "# Now, mark the region of unknown with zero\n",
    "markers[unknown==255] = 0"
   ]
  },
  {
   "cell_type": "code",
   "execution_count": 401,
   "id": "5bbab7f2-6293-4eae-9966-783e1c09a179",
   "metadata": {},
   "outputs": [],
   "source": [
    "markers = cv.watershed(img,markers)\n",
    "img[markers == -1] = [255,0,0]"
   ]
  },
  {
   "cell_type": "code",
   "execution_count": 403,
   "id": "a43937ce-0453-4968-96eb-c3c0812515d0",
   "metadata": {},
   "outputs": [
    {
     "data": {
      "text/plain": [
       "True"
      ]
     },
     "execution_count": 418,
     "metadata": {},
     "output_type": "execute_result"
    }
   ],
   "source": [
    "cv2.imwrite(\"res4.png\", sure_fg)"
   ]
  },
  {
   "cell_type": "code",
   "execution_count": null,
   "id": "e32ebc89-365a-48d1-bb43-e78b04fdf196",
   "metadata": {},
   "outputs": [],
   "source": []
  },
  {
   "cell_type": "code",
   "execution_count": null,
   "id": "992ff89b-419b-4664-a526-4352ac1a8d30",
   "metadata": {},
   "outputs": [],
   "source": []
  },
  {
   "cell_type": "code",
   "execution_count": null,
   "id": "8f15aa0e-50ae-4d14-a0bb-7e819940cc81",
   "metadata": {},
   "outputs": [],
   "source": []
  },
  {
   "cell_type": "code",
   "execution_count": null,
   "id": "cd775086-d638-4e46-93d8-a5f285847c4a",
   "metadata": {},
   "outputs": [],
   "source": []
  },
  {
   "cell_type": "code",
   "execution_count": 20,
   "id": "790d7e08-c9f6-4dea-8ad8-7ab23fdedde7",
   "metadata": {},
   "outputs": [
    {
     "data": {
      "text/plain": [
       "True"
      ]
     },
     "execution_count": 20,
     "metadata": {},
     "output_type": "execute_result"
    }
   ],
   "source": [
    "from __future__ import print_function\n",
    "import cv2 as cv\n",
    "import numpy as np\n",
    "import argparse\n",
    "import random as rng\n",
    "rng.seed(12345)\n",
    "\n",
    "src = cv.imread(\"23.png\")\n",
    "\n",
    "# Show source image\n",
    "#cv.imshow('Source Image', src)\n",
    "\n",
    "src[np.all(src == 255, axis=2)] = 0\n",
    "# Show output image\n",
    "#cv.imshow('Black Background Image', src)\n",
    "\n",
    "cv.imwrite(\"a.png\",src)"
   ]
  },
  {
   "cell_type": "code",
   "execution_count": 21,
   "id": "edc19a3d-5baa-4ca7-8abe-4a3577406959",
   "metadata": {},
   "outputs": [
    {
     "data": {
      "text/plain": [
       "True"
      ]
     },
     "execution_count": 21,
     "metadata": {},
     "output_type": "execute_result"
    }
   ],
   "source": [
    "# Create a kernel that we will use to sharpen our image\n",
    "# an approximation of second derivative, a quite strong kernel\n",
    "kernel = np.array([[1, 1, 1], [1, -8, 1], [1, 1, 1]], dtype=np.float32)\n",
    "# do the laplacian filtering as it is\n",
    "# well, we need to convert everything in something more deeper then CV_8U\n",
    "# because the kernel has some negative values,\n",
    "# and we can expect in general to have a Laplacian image with negative values\n",
    "# BUT a 8bits unsigned int (the one we are working with) can contain values from 0 to 255\n",
    "# so the possible negative number will be truncated\n",
    "imgLaplacian = cv.filter2D(src, cv.CV_32F, kernel)\n",
    "sharp = np.float32(src)\n",
    "imgResult = sharp - imgLaplacian\n",
    "# convert back to 8bits gray scale\n",
    "imgResult = np.clip(imgResult, 0, 255)\n",
    "imgResult = imgResult.astype('uint8')\n",
    "imgLaplacian = np.clip(imgLaplacian, 0, 255)\n",
    "imgLaplacian = np.uint8(imgLaplacian)\n",
    "#cv.imshow('Laplace Filtered Image', imgLaplacian)\n",
    "cv.imwrite(\"b.png\",imgResult)"
   ]
  },
  {
   "cell_type": "code",
   "execution_count": 22,
   "id": "401a0b49-6257-4e66-b15b-1414e64ff5ff",
   "metadata": {},
   "outputs": [
    {
     "data": {
      "text/plain": [
       "True"
      ]
     },
     "execution_count": 22,
     "metadata": {},
     "output_type": "execute_result"
    }
   ],
   "source": [
    "# Create binary image from source image\n",
    "bw = cv.cvtColor(imgResult, cv.COLOR_BGR2GRAY)\n",
    "_, bw = cv.threshold(bw, 40, 255, cv.THRESH_BINARY | cv.THRESH_OTSU)\n",
    "#cv.imshow('Binary Image', bw)\n",
    "cv.imwrite(\"c.png\",bw)"
   ]
  },
  {
   "cell_type": "code",
   "execution_count": 23,
   "id": "5407e776-f634-4a78-a9ca-abae1912a8b5",
   "metadata": {},
   "outputs": [
    {
     "data": {
      "text/plain": [
       "True"
      ]
     },
     "execution_count": 23,
     "metadata": {},
     "output_type": "execute_result"
    }
   ],
   "source": [
    "# Perform the distance transform algorithm\n",
    "dist = cv.distanceTransform(bw, cv.DIST_L2, 3)\n",
    "# Normalize the distance image for range = {0.0, 1.0}\n",
    "# so we can visualize and threshold it\n",
    "cv.normalize(dist, dist, 0, 1.0, cv.NORM_MINMAX)\n",
    "#cv.imshow('Distance Transform Image', dist)\n",
    "cv.imwrite(\"d.png\",dist)"
   ]
  },
  {
   "cell_type": "code",
   "execution_count": 24,
   "id": "f970c196-b1aa-4dd2-b7e4-201d9f68a423",
   "metadata": {},
   "outputs": [
    {
     "data": {
      "text/plain": [
       "True"
      ]
     },
     "execution_count": 24,
     "metadata": {},
     "output_type": "execute_result"
    }
   ],
   "source": [
    "# Threshold to obtain the peaks\n",
    "# This will be the markers for the foreground objects\n",
    "_, dist = cv.threshold(dist, 0.1, 1.0, cv.THRESH_BINARY)\n",
    "# Dilate a bit the dist image\n",
    "kernel1 = np.ones((3,3), dtype=np.uint8)\n",
    "dist = cv.dilate(dist, kernel1,25)\n",
    "#.imshow('Peaks', dist)\n",
    "cv.imwrite(\"e.png\",dist)"
   ]
  },
  {
   "cell_type": "code",
   "execution_count": 25,
   "id": "4ba9d0f3-2c86-4961-9041-a935eb8ca547",
   "metadata": {},
   "outputs": [
    {
     "data": {
      "text/plain": [
       "True"
      ]
     },
     "execution_count": 25,
     "metadata": {},
     "output_type": "execute_result"
    }
   ],
   "source": [
    "# Create the CV_8U version of the distance image\n",
    "# It is needed for findContours()\n",
    "dist_8u = dist.astype('uint8')\n",
    "# Find total markers\n",
    "contours, _ = cv.findContours(dist_8u, cv.RETR_EXTERNAL, cv.CHAIN_APPROX_SIMPLE)\n",
    "# Create the marker image for the watershed algorithm\n",
    "markers = np.zeros(dist.shape, dtype=np.int32)\n",
    "# Draw the foreground markers\n",
    "for i in range(len(contours)):\n",
    "    cv.drawContours(markers, contours, i, (i+1), -1)\n",
    "# Draw the background marker\n",
    "cv.circle(markers, (5,5), 3, (255,255,255), -1)\n",
    "markers_8u = (markers * 10).astype('uint8')\n",
    "#cv.imshow('Markers', markers_8u)\n",
    "cv.imwrite(\"f.png\",markers_8u)"
   ]
  },
  {
   "cell_type": "code",
   "execution_count": 26,
   "id": "2b7bd7cb-d3f1-4944-89bc-04c45d469ce3",
   "metadata": {},
   "outputs": [
    {
     "data": {
      "text/plain": [
       "True"
      ]
     },
     "execution_count": 26,
     "metadata": {},
     "output_type": "execute_result"
    }
   ],
   "source": [
    "# Perform the watershed algorithm\n",
    "cv.watershed(imgResult, markers)\n",
    "#mark = np.zeros(markers.shape, dtype=np.uint8)\n",
    "mark = markers.astype('uint8')\n",
    "mark = cv.bitwise_not(mark)\n",
    "# uncomment this if you want to see how the mark\n",
    "# image looks like at that point\n",
    "#cv.imshow('Markers_v2', mark)\n",
    "# Generate random colors\n",
    "colors = []\n",
    "for contour in contours:\n",
    "    colors.append((rng.randint(0,256), rng.randint(0,256), rng.randint(0,256)))\n",
    "# Create the result image\n",
    "dst = np.zeros((markers.shape[0], markers.shape[1], 3), dtype=np.uint8)\n",
    "# Fill labeled objects with random colors\n",
    "for i in range(markers.shape[0]):\n",
    "    for j in range(markers.shape[1]):\n",
    "        index = markers[i,j]\n",
    "        if index > 0 and index <= len(contours):\n",
    "            dst[i,j,:] = colors[index-1]\n",
    "# Visualize the final image\n",
    "#cv.imshow('Final Result', dst)\n",
    "cv.imwrite(\"g.png\",dst)"
   ]
  },
  {
   "cell_type": "code",
   "execution_count": null,
   "id": "ab28ea08-782e-4448-951a-9f174d62ded4",
   "metadata": {},
   "outputs": [],
   "source": []
  },
  {
   "cell_type": "code",
   "execution_count": null,
   "id": "3b4e6da6-c9d4-4769-87bd-11eb2efc4b83",
   "metadata": {},
   "outputs": [],
   "source": []
  },
  {
   "cell_type": "code",
   "execution_count": 75,
   "id": "e37b6265-3136-472b-9d62-fb1f6b4758d4",
   "metadata": {},
   "outputs": [
    {
     "data": {
      "text/plain": [
       "True"
      ]
     },
     "execution_count": 75,
     "metadata": {},
     "output_type": "execute_result"
    }
   ],
   "source": [
    "import sys\n",
    "import cv2\n",
    "import numpy\n",
    "from scipy.ndimage import label\n",
    "\n",
    "def segment_on_dt(a, img):\n",
    "    border = cv2.dilate(img, None, iterations=1)\n",
    "    border = border - cv2.erode(border, None)\n",
    "    \n",
    "    \n",
    "    dt = cv2.distanceTransform(img, 1, 0)\n",
    "    \n",
    "    dt = ((dt - dt.min()) / (dt.max() - dt.min()) * 255).astype(numpy.uint8)\n",
    "    \n",
    "    cv2.imwrite(\"./3211.png\", dt)\n",
    "\n",
    "    #_, dt = cv2.threshold(dt, 100, 255, cv2.THRESH_BINARY)\n",
    "    \n",
    "    \n",
    "    lbl, ncc = label(dt)\n",
    "    lbl = lbl * (255 / (ncc + 1))\n",
    "    # Completing the markers now. \n",
    "    lbl[border == 255] = 255\n",
    "\n",
    "    lbl = lbl.astype(numpy.int32)\n",
    "    cv2.watershed(a, lbl)\n",
    "\n",
    "    lbl[lbl == -1] = 0\n",
    "    lbl = lbl.astype(numpy.uint8)\n",
    "    return 255 - lbl\n",
    "\n",
    "\n",
    "img = cv2.imread(\"./23.png\")\n",
    "\n",
    "# Pre-processing.\n",
    "img_gray = cv2.cvtColor(img, cv2.COLOR_BGR2GRAY)    \n",
    "_, img_bin = cv2.threshold(img_gray, 0, 255,\n",
    "        cv2.THRESH_OTSU)\n",
    "img_bin = cv2.morphologyEx(img_bin, cv2.MORPH_OPEN,\n",
    "        numpy.ones((3, 3), dtype=int))\n",
    "\n",
    "result = segment_on_dt(img, img_bin)\n",
    "cv2.imwrite(\"./321.png\", result)\n",
    "\n",
    "# result[result != 255] = 0\n",
    "# result = cv2.dilate(result, None)\n",
    "# img[result == 255] = (0, 0, 255)\n",
    "# cv2.imwrite(\"./3211.png\", img)"
   ]
  },
  {
   "cell_type": "code",
   "execution_count": null,
   "id": "01a7983b-2a32-4b9d-9919-c2c6af9e01b6",
   "metadata": {},
   "outputs": [],
   "source": []
  }
 ],
 "metadata": {
  "kernelspec": {
   "display_name": "Python 3",
   "language": "python",
   "name": "python3"
  },
  "language_info": {
   "codemirror_mode": {
    "name": "ipython",
    "version": 3
   },
   "file_extension": ".py",
   "mimetype": "text/x-python",
   "name": "python",
   "nbconvert_exporter": "python",
   "pygments_lexer": "ipython3",
   "version": "3.7.11"
  }
 },
 "nbformat": 4,
 "nbformat_minor": 5
}
