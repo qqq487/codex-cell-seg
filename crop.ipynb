{
 "cells": [
  {
   "cell_type": "code",
   "execution_count": null,
   "id": "bb51bcf6-952a-468d-a264-178d15632641",
   "metadata": {},
   "outputs": [],
   "source": [
    "import cv2\n",
    "import numpy as np\n",
    "import os\n"
   ]
  },
  {
   "cell_type": "code",
   "execution_count": 10,
   "id": "40acd5d8-10b5-4085-94db-8fd009fefbb1",
   "metadata": {},
   "outputs": [],
   "source": [
    "def get_serial_crop(image, max_height=1000, max_width=1000):\n",
    "\n",
    "    crop_imgs_list = []\n",
    "\n",
    "    crop_num_x = 3\n",
    "    crop_num_y = 3\n",
    "\n",
    "    while (image.shape[1] // crop_num_x) > max_width:\n",
    "        crop_num_x += 1\n",
    "\n",
    "    while (image.shape[0] // crop_num_y) > max_height:\n",
    "        crop_num_y += 1\n",
    "\n",
    "    patch_size_x = (image.shape[1] // crop_num_x)\n",
    "    patch_size_y = (image.shape[0] // crop_num_y)\n",
    "\n",
    "    x = 0\n",
    "\n",
    "    while x < image.shape[1]:\n",
    "        y = 0\n",
    "\n",
    "        while y < image.shape[0]:\n",
    "\n",
    "\n",
    "            if (y + patch_size_y > image.shape[0]) and (image.shape[0] - y > 200):  ## y too big\n",
    "                if (x + patch_size_x > image.shape[1]) and (image.shape[1] - x > 200): ## x y too big\n",
    "                    crop = image[y: image.shape[0], x: image.shape[1]]\n",
    "\n",
    "                elif (x + patch_size_x <= image.shape[1]): ## y too big x normal\n",
    "                    crop = image[y: image.shape[0], x: x + patch_size_x]\n",
    "\n",
    "            elif (y + patch_size_y <= image.shape[0]) and (x + patch_size_x > image.shape[1]) and (image.shape[1] - x > 200): ## x too big and y normal\n",
    "                crop = image[y: y + patch_size_y, x: image.shape[1]]\n",
    "\n",
    "            elif (y + patch_size_y <= image.shape[0]) and (x + patch_size_x <= image.shape[1]): ## x y normal\n",
    "                crop = image[y: y + patch_size_y, x: x + patch_size_x] \n",
    "\n",
    "            crop_imgs_list.append(crop)\n",
    "\n",
    "            y += patch_size_y\n",
    "        x += patch_size_x\n",
    "\n",
    "    return crop_imgs_list"
   ]
  },
  {
   "cell_type": "code",
   "execution_count": 28,
   "id": "3d65bca1-a5bd-422f-b43f-6c21de88db58",
   "metadata": {},
   "outputs": [
    {
     "name": "stdout",
     "output_type": "stream",
     "text": [
      "./test_data_cropped/1228_reg002_cyc017_ch004_NAKATP_4_0.png\n",
      "./test_data_cropped/1228_reg002_cyc017_ch004_NAKATP_4_1.png\n",
      "./test_data_cropped/1228_reg002_cyc017_ch004_NAKATP_4_2.png\n",
      "./test_data_cropped/1228_reg002_cyc017_ch004_NAKATP_4_3.png\n",
      "./test_data_cropped/1228_reg002_cyc017_ch004_NAKATP_4_4.png\n",
      "./test_data_cropped/1228_reg002_cyc017_ch004_NAKATP_4_5.png\n",
      "./test_data_cropped/1228_reg002_cyc017_ch004_NAKATP_4_6.png\n",
      "./test_data_cropped/1228_reg002_cyc017_ch004_NAKATP_4_7.png\n",
      "./test_data_cropped/1228_reg002_cyc017_ch004_NAKATP_4_8.png\n",
      "./test_data_cropped/1228_reg002_cyc017_ch004_NAKATP_0_0.png\n",
      "./test_data_cropped/1228_reg002_cyc017_ch004_NAKATP_0_1.png\n",
      "./test_data_cropped/1228_reg002_cyc017_ch004_NAKATP_0_2.png\n",
      "./test_data_cropped/1228_reg002_cyc017_ch004_NAKATP_0_3.png\n",
      "./test_data_cropped/1228_reg002_cyc017_ch004_NAKATP_0_4.png\n",
      "./test_data_cropped/1228_reg002_cyc017_ch004_NAKATP_0_5.png\n",
      "./test_data_cropped/1228_reg002_cyc017_ch004_NAKATP_0_6.png\n",
      "./test_data_cropped/1228_reg002_cyc017_ch004_NAKATP_0_7.png\n",
      "./test_data_cropped/1228_reg002_cyc017_ch004_NAKATP_0_8.png\n",
      "./test_data_cropped/0701_reg001_cyc007_ch004_CD45_13_0.png\n",
      "./test_data_cropped/0701_reg001_cyc007_ch004_CD45_13_1.png\n",
      "./test_data_cropped/0701_reg001_cyc007_ch004_CD45_13_2.png\n",
      "./test_data_cropped/0701_reg001_cyc007_ch004_CD45_13_3.png\n",
      "./test_data_cropped/0701_reg001_cyc007_ch004_CD45_13_4.png\n",
      "./test_data_cropped/0701_reg001_cyc007_ch004_CD45_13_5.png\n",
      "./test_data_cropped/0701_reg001_cyc007_ch004_CD45_13_6.png\n",
      "./test_data_cropped/0701_reg001_cyc007_ch004_CD45_13_7.png\n",
      "./test_data_cropped/0701_reg001_cyc007_ch004_CD45_13_8.png\n",
      "./test_data_cropped/1228_reg002_cyc017_ch004_NAKATP_21_0.png\n",
      "./test_data_cropped/1228_reg002_cyc017_ch004_NAKATP_21_1.png\n",
      "./test_data_cropped/1228_reg002_cyc017_ch004_NAKATP_21_2.png\n",
      "./test_data_cropped/1228_reg002_cyc017_ch004_NAKATP_21_3.png\n",
      "./test_data_cropped/1228_reg002_cyc017_ch004_NAKATP_21_4.png\n",
      "./test_data_cropped/1228_reg002_cyc017_ch004_NAKATP_21_5.png\n",
      "./test_data_cropped/1228_reg002_cyc017_ch004_NAKATP_21_6.png\n",
      "./test_data_cropped/1228_reg002_cyc017_ch004_NAKATP_21_7.png\n",
      "./test_data_cropped/1228_reg002_cyc017_ch004_NAKATP_21_8.png\n",
      "./test_data_cropped/0701_reg001_cyc008_ch003_CD19_14_0.png\n",
      "./test_data_cropped/0701_reg001_cyc008_ch003_CD19_14_1.png\n",
      "./test_data_cropped/0701_reg001_cyc008_ch003_CD19_14_2.png\n",
      "./test_data_cropped/0701_reg001_cyc008_ch003_CD19_14_3.png\n",
      "./test_data_cropped/0701_reg001_cyc008_ch003_CD19_14_4.png\n",
      "./test_data_cropped/0701_reg001_cyc008_ch003_CD19_14_5.png\n",
      "./test_data_cropped/0701_reg001_cyc008_ch003_CD19_14_6.png\n",
      "./test_data_cropped/0701_reg001_cyc008_ch003_CD19_14_7.png\n",
      "./test_data_cropped/0701_reg001_cyc008_ch003_CD19_14_8.png\n"
     ]
    }
   ],
   "source": [
    "\n",
    "np.random.seed(1116)\n",
    "\n",
    "# img_root_dir = \"./data/imgs/\"\n",
    "# img_save_dir = \"./data/imgs_cropped/\"\n",
    "\n",
    "# mask_root_dir = \"./data/masks_org/\"\n",
    "# mask_save_dir = \"./data/masks_cropped/\"\n",
    "\n",
    "\n",
    "img_root_dir = \"./test_data/\"\n",
    "img_save_dir = \"./test_data_cropped/\"\n",
    "\n",
    "mask_root_dir = \"./data/masks_org/\"\n",
    "mask_save_dir = \"./data/masks_cropped/\"\n",
    "\n",
    "img_list = os.listdir(img_root_dir)\n",
    "\n",
    "if \".ipynb_checkpoints\" in img_list:\n",
    "    img_list.remove(\".ipynb_checkpoints\")\n",
    "    \n",
    "for idx, img in enumerate(img_list):\n",
    "    \n",
    "    image_name = img.strip(\".png\")\n",
    "\n",
    "    img_path = os.path.join(img_root_dir, img)\n",
    "    mask_path = os.path.join(mask_root_dir, image_name+\"_mask.png\")\n",
    "    \n",
    "    image = cv2.imread(img_path)\n",
    "    #mask = cv2.imread(mask_path, 0)\n",
    "    \n",
    "\n",
    "\n",
    "    crop_imgs_list= get_serial_crop(image, 800, 800)\n",
    "    #crop_mask_list= get_serial_crop(mask, 800, 800)\n",
    "    \n",
    "    for idx, crop_img in enumerate(crop_imgs_list):\n",
    "        print(img_save_dir+'{}_{}.png'.format(image_name, idx))\n",
    "        cv2.imwrite(img_save_dir+'{}_{}.png'.format(image_name, idx), crop_img)\n",
    "        \n",
    "    # for idx, crop_img in enumerate(crop_mask_list):\n",
    "    #     print(mask_save_dir+'{}_{}.png'.format(image_name, idx))\n",
    "    #     mask_ndarray = np.asarray(crop_img)\n",
    "    #     mask_ndarray = (mask_ndarray/255)\n",
    "    #     np.save(mask_save_dir+'{}_{}_mask.npy'.format(image_name, idx), mask_ndarray)\n",
    " "
   ]
  },
  {
   "cell_type": "code",
   "execution_count": 23,
   "id": "03167020-018f-4698-841b-a87309e5c0fb",
   "metadata": {},
   "outputs": [
    {
     "data": {
      "text/plain": [
       "(252, 224)"
      ]
     },
     "execution_count": 23,
     "metadata": {},
     "output_type": "execute_result"
    }
   ],
   "source": [
    "crop_mask_list[0].shape"
   ]
  },
  {
   "cell_type": "code",
   "execution_count": 24,
   "id": "e9f8337d-c420-40a6-a00c-7a9e7d39e909",
   "metadata": {},
   "outputs": [
    {
     "data": {
      "text/plain": [
       "(252, 224)"
      ]
     },
     "execution_count": 24,
     "metadata": {},
     "output_type": "execute_result"
    }
   ],
   "source": [
    "crop_mask_list[1].shape"
   ]
  },
  {
   "cell_type": "code",
   "execution_count": null,
   "id": "5c099277-0218-406b-a4ce-ee0ce3cc0343",
   "metadata": {},
   "outputs": [],
   "source": []
  }
 ],
 "metadata": {
  "kernelspec": {
   "display_name": "Python 3",
   "language": "python",
   "name": "python3"
  },
  "language_info": {
   "codemirror_mode": {
    "name": "ipython",
    "version": 3
   },
   "file_extension": ".py",
   "mimetype": "text/x-python",
   "name": "python",
   "nbconvert_exporter": "python",
   "pygments_lexer": "ipython3",
   "version": "3.7.11"
  }
 },
 "nbformat": 4,
 "nbformat_minor": 5
}
